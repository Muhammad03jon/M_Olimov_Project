{
 "cells": [
  {
   "cell_type": "markdown",
   "id": "fec2ccf0-7c23-40c5-843d-11636b099c9d",
   "metadata": {},
   "source": [
    "### 🔹 Шаг 1: Загрузка и первичный анализ данных"
   ]
  },
  {
   "cell_type": "code",
   "execution_count": 1,
   "id": "776ecde6-c937-49c9-ace2-4e957ca54bcb",
   "metadata": {
    "scrolled": true
   },
   "outputs": [
    {
     "name": "stdout",
     "output_type": "stream",
     "text": [
      "Количество строк: 7043. Количество столбцов: 21\n"
     ]
    },
    {
     "data": {
      "text/html": [
       "<div>\n",
       "<style scoped>\n",
       "    .dataframe tbody tr th:only-of-type {\n",
       "        vertical-align: middle;\n",
       "    }\n",
       "\n",
       "    .dataframe tbody tr th {\n",
       "        vertical-align: top;\n",
       "    }\n",
       "\n",
       "    .dataframe thead th {\n",
       "        text-align: right;\n",
       "    }\n",
       "</style>\n",
       "<table border=\"1\" class=\"dataframe\">\n",
       "  <thead>\n",
       "    <tr style=\"text-align: right;\">\n",
       "      <th></th>\n",
       "      <th>customerID</th>\n",
       "      <th>gender</th>\n",
       "      <th>SeniorCitizen</th>\n",
       "      <th>Partner</th>\n",
       "      <th>Dependents</th>\n",
       "      <th>tenure</th>\n",
       "      <th>PhoneService</th>\n",
       "      <th>MultipleLines</th>\n",
       "      <th>InternetService</th>\n",
       "      <th>OnlineSecurity</th>\n",
       "      <th>OnlineBackup</th>\n",
       "      <th>DeviceProtection</th>\n",
       "      <th>TechSupport</th>\n",
       "      <th>StreamingTV</th>\n",
       "      <th>StreamingMovies</th>\n",
       "      <th>Contract</th>\n",
       "      <th>PaperlessBilling</th>\n",
       "      <th>PaymentMethod</th>\n",
       "      <th>MonthlyCharges</th>\n",
       "      <th>TotalCharges</th>\n",
       "      <th>Churn</th>\n",
       "    </tr>\n",
       "  </thead>\n",
       "  <tbody>\n",
       "    <tr>\n",
       "      <th>0</th>\n",
       "      <td>7590-VHVEG</td>\n",
       "      <td>Female</td>\n",
       "      <td>0</td>\n",
       "      <td>Yes</td>\n",
       "      <td>No</td>\n",
       "      <td>1</td>\n",
       "      <td>No</td>\n",
       "      <td>No phone service</td>\n",
       "      <td>DSL</td>\n",
       "      <td>No</td>\n",
       "      <td>Yes</td>\n",
       "      <td>No</td>\n",
       "      <td>No</td>\n",
       "      <td>No</td>\n",
       "      <td>No</td>\n",
       "      <td>Month-to-month</td>\n",
       "      <td>Yes</td>\n",
       "      <td>Electronic check</td>\n",
       "      <td>29.85</td>\n",
       "      <td>29.85</td>\n",
       "      <td>No</td>\n",
       "    </tr>\n",
       "    <tr>\n",
       "      <th>1</th>\n",
       "      <td>5575-GNVDE</td>\n",
       "      <td>Male</td>\n",
       "      <td>0</td>\n",
       "      <td>No</td>\n",
       "      <td>No</td>\n",
       "      <td>34</td>\n",
       "      <td>Yes</td>\n",
       "      <td>No</td>\n",
       "      <td>DSL</td>\n",
       "      <td>Yes</td>\n",
       "      <td>No</td>\n",
       "      <td>Yes</td>\n",
       "      <td>No</td>\n",
       "      <td>No</td>\n",
       "      <td>No</td>\n",
       "      <td>One year</td>\n",
       "      <td>No</td>\n",
       "      <td>Mailed check</td>\n",
       "      <td>56.95</td>\n",
       "      <td>1889.5</td>\n",
       "      <td>No</td>\n",
       "    </tr>\n",
       "    <tr>\n",
       "      <th>2</th>\n",
       "      <td>3668-QPYBK</td>\n",
       "      <td>Male</td>\n",
       "      <td>0</td>\n",
       "      <td>No</td>\n",
       "      <td>No</td>\n",
       "      <td>2</td>\n",
       "      <td>Yes</td>\n",
       "      <td>No</td>\n",
       "      <td>DSL</td>\n",
       "      <td>Yes</td>\n",
       "      <td>Yes</td>\n",
       "      <td>No</td>\n",
       "      <td>No</td>\n",
       "      <td>No</td>\n",
       "      <td>No</td>\n",
       "      <td>Month-to-month</td>\n",
       "      <td>Yes</td>\n",
       "      <td>Mailed check</td>\n",
       "      <td>53.85</td>\n",
       "      <td>108.15</td>\n",
       "      <td>Yes</td>\n",
       "    </tr>\n",
       "    <tr>\n",
       "      <th>3</th>\n",
       "      <td>7795-CFOCW</td>\n",
       "      <td>Male</td>\n",
       "      <td>0</td>\n",
       "      <td>No</td>\n",
       "      <td>No</td>\n",
       "      <td>45</td>\n",
       "      <td>No</td>\n",
       "      <td>No phone service</td>\n",
       "      <td>DSL</td>\n",
       "      <td>Yes</td>\n",
       "      <td>No</td>\n",
       "      <td>Yes</td>\n",
       "      <td>Yes</td>\n",
       "      <td>No</td>\n",
       "      <td>No</td>\n",
       "      <td>One year</td>\n",
       "      <td>No</td>\n",
       "      <td>Bank transfer (automatic)</td>\n",
       "      <td>42.30</td>\n",
       "      <td>1840.75</td>\n",
       "      <td>No</td>\n",
       "    </tr>\n",
       "    <tr>\n",
       "      <th>4</th>\n",
       "      <td>9237-HQITU</td>\n",
       "      <td>Female</td>\n",
       "      <td>0</td>\n",
       "      <td>No</td>\n",
       "      <td>No</td>\n",
       "      <td>2</td>\n",
       "      <td>Yes</td>\n",
       "      <td>No</td>\n",
       "      <td>Fiber optic</td>\n",
       "      <td>No</td>\n",
       "      <td>No</td>\n",
       "      <td>No</td>\n",
       "      <td>No</td>\n",
       "      <td>No</td>\n",
       "      <td>No</td>\n",
       "      <td>Month-to-month</td>\n",
       "      <td>Yes</td>\n",
       "      <td>Electronic check</td>\n",
       "      <td>70.70</td>\n",
       "      <td>151.65</td>\n",
       "      <td>Yes</td>\n",
       "    </tr>\n",
       "  </tbody>\n",
       "</table>\n",
       "</div>"
      ],
      "text/plain": [
       "   customerID  gender  SeniorCitizen Partner Dependents  tenure PhoneService  \\\n",
       "0  7590-VHVEG  Female              0     Yes         No       1           No   \n",
       "1  5575-GNVDE    Male              0      No         No      34          Yes   \n",
       "2  3668-QPYBK    Male              0      No         No       2          Yes   \n",
       "3  7795-CFOCW    Male              0      No         No      45           No   \n",
       "4  9237-HQITU  Female              0      No         No       2          Yes   \n",
       "\n",
       "      MultipleLines InternetService OnlineSecurity OnlineBackup  \\\n",
       "0  No phone service             DSL             No          Yes   \n",
       "1                No             DSL            Yes           No   \n",
       "2                No             DSL            Yes          Yes   \n",
       "3  No phone service             DSL            Yes           No   \n",
       "4                No     Fiber optic             No           No   \n",
       "\n",
       "  DeviceProtection TechSupport StreamingTV StreamingMovies        Contract  \\\n",
       "0               No          No          No              No  Month-to-month   \n",
       "1              Yes          No          No              No        One year   \n",
       "2               No          No          No              No  Month-to-month   \n",
       "3              Yes         Yes          No              No        One year   \n",
       "4               No          No          No              No  Month-to-month   \n",
       "\n",
       "  PaperlessBilling              PaymentMethod  MonthlyCharges TotalCharges  \\\n",
       "0              Yes           Electronic check           29.85        29.85   \n",
       "1               No               Mailed check           56.95       1889.5   \n",
       "2              Yes               Mailed check           53.85       108.15   \n",
       "3               No  Bank transfer (automatic)           42.30      1840.75   \n",
       "4              Yes           Electronic check           70.70       151.65   \n",
       "\n",
       "  Churn  \n",
       "0    No  \n",
       "1    No  \n",
       "2   Yes  \n",
       "3    No  \n",
       "4   Yes  "
      ]
     },
     "execution_count": 1,
     "metadata": {},
     "output_type": "execute_result"
    }
   ],
   "source": [
    "import pandas as pd\n",
    "import numpy as np\n",
    "\n",
    "pd.set_option('display.max_columns', 50)\n",
    "pd.set_option('display.max_rows', 50)\n",
    "\n",
    "df = pd.read_csv('WA_Fn-UseC_-Telco-Customer-Churn (1).csv')\n",
    "print(f\"Количество строк: {df.shape[0]}. Количество столбцов: {df.shape[1]}\")\n",
    "df.head()"
   ]
  },
  {
   "cell_type": "code",
   "execution_count": 2,
   "id": "71729f4a-6c62-48d2-a41a-60b5c707bcc0",
   "metadata": {},
   "outputs": [
    {
     "data": {
      "text/html": [
       "<div>\n",
       "<style scoped>\n",
       "    .dataframe tbody tr th:only-of-type {\n",
       "        vertical-align: middle;\n",
       "    }\n",
       "\n",
       "    .dataframe tbody tr th {\n",
       "        vertical-align: top;\n",
       "    }\n",
       "\n",
       "    .dataframe thead th {\n",
       "        text-align: right;\n",
       "    }\n",
       "</style>\n",
       "<table border=\"1\" class=\"dataframe\">\n",
       "  <thead>\n",
       "    <tr style=\"text-align: right;\">\n",
       "      <th></th>\n",
       "      <th>SeniorCitizen</th>\n",
       "      <th>tenure</th>\n",
       "      <th>MonthlyCharges</th>\n",
       "    </tr>\n",
       "  </thead>\n",
       "  <tbody>\n",
       "    <tr>\n",
       "      <th>count</th>\n",
       "      <td>7043.000000</td>\n",
       "      <td>7043.000000</td>\n",
       "      <td>7043.000000</td>\n",
       "    </tr>\n",
       "    <tr>\n",
       "      <th>mean</th>\n",
       "      <td>0.162147</td>\n",
       "      <td>32.371149</td>\n",
       "      <td>64.761692</td>\n",
       "    </tr>\n",
       "    <tr>\n",
       "      <th>std</th>\n",
       "      <td>0.368612</td>\n",
       "      <td>24.559481</td>\n",
       "      <td>30.090047</td>\n",
       "    </tr>\n",
       "    <tr>\n",
       "      <th>min</th>\n",
       "      <td>0.000000</td>\n",
       "      <td>0.000000</td>\n",
       "      <td>18.250000</td>\n",
       "    </tr>\n",
       "    <tr>\n",
       "      <th>25%</th>\n",
       "      <td>0.000000</td>\n",
       "      <td>9.000000</td>\n",
       "      <td>35.500000</td>\n",
       "    </tr>\n",
       "    <tr>\n",
       "      <th>50%</th>\n",
       "      <td>0.000000</td>\n",
       "      <td>29.000000</td>\n",
       "      <td>70.350000</td>\n",
       "    </tr>\n",
       "    <tr>\n",
       "      <th>75%</th>\n",
       "      <td>0.000000</td>\n",
       "      <td>55.000000</td>\n",
       "      <td>89.850000</td>\n",
       "    </tr>\n",
       "    <tr>\n",
       "      <th>max</th>\n",
       "      <td>1.000000</td>\n",
       "      <td>72.000000</td>\n",
       "      <td>118.750000</td>\n",
       "    </tr>\n",
       "  </tbody>\n",
       "</table>\n",
       "</div>"
      ],
      "text/plain": [
       "       SeniorCitizen       tenure  MonthlyCharges\n",
       "count    7043.000000  7043.000000     7043.000000\n",
       "mean        0.162147    32.371149       64.761692\n",
       "std         0.368612    24.559481       30.090047\n",
       "min         0.000000     0.000000       18.250000\n",
       "25%         0.000000     9.000000       35.500000\n",
       "50%         0.000000    29.000000       70.350000\n",
       "75%         0.000000    55.000000       89.850000\n",
       "max         1.000000    72.000000      118.750000"
      ]
     },
     "execution_count": 2,
     "metadata": {},
     "output_type": "execute_result"
    }
   ],
   "source": [
    "df.describe()"
   ]
  },
  {
   "cell_type": "markdown",
   "id": "ad8c67da-2583-447b-9f2c-abd7ee057998",
   "metadata": {},
   "source": [
    "### 🔹 Шаг 2: Проверка данных на пропуски и типы данных"
   ]
  },
  {
   "cell_type": "code",
   "execution_count": 3,
   "id": "c6ef50d3-3523-4b72-ac8a-204bf520a18d",
   "metadata": {},
   "outputs": [
    {
     "name": "stdout",
     "output_type": "stream",
     "text": [
      "<class 'pandas.core.frame.DataFrame'>\n",
      "RangeIndex: 7043 entries, 0 to 7042\n",
      "Data columns (total 21 columns):\n",
      " #   Column            Non-Null Count  Dtype  \n",
      "---  ------            --------------  -----  \n",
      " 0   customerID        7043 non-null   object \n",
      " 1   gender            7043 non-null   object \n",
      " 2   SeniorCitizen     7043 non-null   int64  \n",
      " 3   Partner           7043 non-null   object \n",
      " 4   Dependents        7043 non-null   object \n",
      " 5   tenure            7043 non-null   int64  \n",
      " 6   PhoneService      7043 non-null   object \n",
      " 7   MultipleLines     7043 non-null   object \n",
      " 8   InternetService   7043 non-null   object \n",
      " 9   OnlineSecurity    7043 non-null   object \n",
      " 10  OnlineBackup      7043 non-null   object \n",
      " 11  DeviceProtection  7043 non-null   object \n",
      " 12  TechSupport       7043 non-null   object \n",
      " 13  StreamingTV       7043 non-null   object \n",
      " 14  StreamingMovies   7043 non-null   object \n",
      " 15  Contract          7043 non-null   object \n",
      " 16  PaperlessBilling  7043 non-null   object \n",
      " 17  PaymentMethod     7043 non-null   object \n",
      " 18  MonthlyCharges    7043 non-null   float64\n",
      " 19  TotalCharges      7043 non-null   object \n",
      " 20  Churn             7043 non-null   object \n",
      "dtypes: float64(1), int64(2), object(18)\n",
      "memory usage: 1.1+ MB\n"
     ]
    }
   ],
   "source": [
    "df.info()"
   ]
  },
  {
   "cell_type": "code",
   "execution_count": 4,
   "id": "4664a641-d410-41cd-b832-bcbc1cdd979b",
   "metadata": {
    "scrolled": true
   },
   "outputs": [
    {
     "data": {
      "text/plain": [
       "customerID          7043\n",
       "gender                 2\n",
       "SeniorCitizen          2\n",
       "Partner                2\n",
       "Dependents             2\n",
       "tenure                73\n",
       "PhoneService           2\n",
       "MultipleLines          3\n",
       "InternetService        3\n",
       "OnlineSecurity         3\n",
       "OnlineBackup           3\n",
       "DeviceProtection       3\n",
       "TechSupport            3\n",
       "StreamingTV            3\n",
       "StreamingMovies        3\n",
       "Contract               3\n",
       "PaperlessBilling       2\n",
       "PaymentMethod          4\n",
       "MonthlyCharges      1585\n",
       "TotalCharges        6531\n",
       "Churn                  2\n",
       "dtype: int64"
      ]
     },
     "execution_count": 4,
     "metadata": {},
     "output_type": "execute_result"
    }
   ],
   "source": [
    "df.nunique()"
   ]
  },
  {
   "cell_type": "code",
   "execution_count": 5,
   "id": "a212acf7-33fb-4d6f-bd80-d0504490712c",
   "metadata": {},
   "outputs": [
    {
     "data": {
      "text/plain": [
       "customerID          0\n",
       "gender              0\n",
       "SeniorCitizen       0\n",
       "Partner             0\n",
       "Dependents          0\n",
       "tenure              0\n",
       "PhoneService        0\n",
       "MultipleLines       0\n",
       "InternetService     0\n",
       "OnlineSecurity      0\n",
       "OnlineBackup        0\n",
       "DeviceProtection    0\n",
       "TechSupport         0\n",
       "StreamingTV         0\n",
       "StreamingMovies     0\n",
       "Contract            0\n",
       "PaperlessBilling    0\n",
       "PaymentMethod       0\n",
       "MonthlyCharges      0\n",
       "TotalCharges        0\n",
       "Churn               0\n",
       "dtype: int64"
      ]
     },
     "execution_count": 5,
     "metadata": {},
     "output_type": "execute_result"
    }
   ],
   "source": [
    "df.isna().sum()"
   ]
  },
  {
   "cell_type": "code",
   "execution_count": 6,
   "id": "45c6f3ce-1507-45a5-9dcc-ad37198e8c19",
   "metadata": {
    "scrolled": true
   },
   "outputs": [
    {
     "name": "stdout",
     "output_type": "stream",
     "text": [
      "customerID\n",
      "7590-VHVEG    1\n",
      "3791-LGQCY    1\n",
      "6008-NAIXK    1\n",
      "5956-YHHRX    1\n",
      "5365-LLFYV    1\n",
      "             ..\n",
      "9796-MVYXX    1\n",
      "2637-FKFSY    1\n",
      "1552-AAGRX    1\n",
      "4304-TSPVK    1\n",
      "3186-AJIEK    1\n",
      "Name: count, Length: 7043, dtype: int64\n",
      "------------------------------\n",
      "gender\n",
      "Male      3555\n",
      "Female    3488\n",
      "Name: count, dtype: int64\n",
      "------------------------------\n",
      "SeniorCitizen\n",
      "0    5901\n",
      "1    1142\n",
      "Name: count, dtype: int64\n",
      "------------------------------\n",
      "Partner\n",
      "No     3641\n",
      "Yes    3402\n",
      "Name: count, dtype: int64\n",
      "------------------------------\n",
      "Dependents\n",
      "No     4933\n",
      "Yes    2110\n",
      "Name: count, dtype: int64\n",
      "------------------------------\n",
      "tenure\n",
      "1     613\n",
      "72    362\n",
      "2     238\n",
      "3     200\n",
      "4     176\n",
      "     ... \n",
      "28     57\n",
      "39     56\n",
      "44     51\n",
      "36     50\n",
      "0      11\n",
      "Name: count, Length: 73, dtype: int64\n",
      "------------------------------\n",
      "PhoneService\n",
      "Yes    6361\n",
      "No      682\n",
      "Name: count, dtype: int64\n",
      "------------------------------\n",
      "MultipleLines\n",
      "No                  3390\n",
      "Yes                 2971\n",
      "No phone service     682\n",
      "Name: count, dtype: int64\n",
      "------------------------------\n",
      "InternetService\n",
      "Fiber optic    3096\n",
      "DSL            2421\n",
      "No             1526\n",
      "Name: count, dtype: int64\n",
      "------------------------------\n",
      "OnlineSecurity\n",
      "No                     3498\n",
      "Yes                    2019\n",
      "No internet service    1526\n",
      "Name: count, dtype: int64\n",
      "------------------------------\n",
      "OnlineBackup\n",
      "No                     3088\n",
      "Yes                    2429\n",
      "No internet service    1526\n",
      "Name: count, dtype: int64\n",
      "------------------------------\n",
      "DeviceProtection\n",
      "No                     3095\n",
      "Yes                    2422\n",
      "No internet service    1526\n",
      "Name: count, dtype: int64\n",
      "------------------------------\n",
      "TechSupport\n",
      "No                     3473\n",
      "Yes                    2044\n",
      "No internet service    1526\n",
      "Name: count, dtype: int64\n",
      "------------------------------\n",
      "StreamingTV\n",
      "No                     2810\n",
      "Yes                    2707\n",
      "No internet service    1526\n",
      "Name: count, dtype: int64\n",
      "------------------------------\n",
      "StreamingMovies\n",
      "No                     2785\n",
      "Yes                    2732\n",
      "No internet service    1526\n",
      "Name: count, dtype: int64\n",
      "------------------------------\n",
      "Contract\n",
      "Month-to-month    3875\n",
      "Two year          1695\n",
      "One year          1473\n",
      "Name: count, dtype: int64\n",
      "------------------------------\n",
      "PaperlessBilling\n",
      "Yes    4171\n",
      "No     2872\n",
      "Name: count, dtype: int64\n",
      "------------------------------\n",
      "PaymentMethod\n",
      "Electronic check             2365\n",
      "Mailed check                 1612\n",
      "Bank transfer (automatic)    1544\n",
      "Credit card (automatic)      1522\n",
      "Name: count, dtype: int64\n",
      "------------------------------\n",
      "MonthlyCharges\n",
      "20.05     61\n",
      "19.85     45\n",
      "19.95     44\n",
      "19.90     44\n",
      "20.00     43\n",
      "          ..\n",
      "23.65      1\n",
      "114.70     1\n",
      "43.65      1\n",
      "87.80      1\n",
      "78.70      1\n",
      "Name: count, Length: 1585, dtype: int64\n",
      "------------------------------\n",
      "TotalCharges\n",
      "          11\n",
      "20.2      11\n",
      "19.75      9\n",
      "20.05      8\n",
      "19.9       8\n",
      "          ..\n",
      "6849.4     1\n",
      "692.35     1\n",
      "130.15     1\n",
      "3211.9     1\n",
      "6844.5     1\n",
      "Name: count, Length: 6531, dtype: int64\n",
      "------------------------------\n",
      "Churn\n",
      "No     5174\n",
      "Yes    1869\n",
      "Name: count, dtype: int64\n",
      "------------------------------\n"
     ]
    }
   ],
   "source": [
    "for column in df.columns:\n",
    "    print(df[column].value_counts())\n",
    "    print(\"------------------------------\")"
   ]
  },
  {
   "cell_type": "code",
   "execution_count": 7,
   "id": "dbc4d42c-36a2-4f18-9ca4-ada09d4af864",
   "metadata": {},
   "outputs": [],
   "source": [
    "# Так как у меня нету таргета я на основе имеющихся данных создам таргет\n",
    "import numpy as np\n",
    "\n",
    "conditions = [\n",
    "    (df['MonthlyCharges'] > 100) & (df['InternetService'] == 'Fiber optic') & (df['Churn'] == 'No'),\n",
    "    (df['MonthlyCharges'] <= 100) & (df['InternetService'] == 'DSL'),\n",
    "    (df['MonthlyCharges'] < 50)\n",
    "]\n",
    "\n",
    "values = ['High', 'Medium', 'Low']\n",
    "\n",
    "df['ideal_plan'] = np.select(conditions, values, default='Medium')\n",
    "\n",
    "# Удаляю эти признаки так как они могут привести к утечку данных, но удалил customerId так как он является id\n",
    "df.drop(columns=['customerID', 'MonthlyCharges', 'InternetService', 'Churn', 'TotalCharges'], inplace=True)"
   ]
  },
  {
   "cell_type": "code",
   "execution_count": 8,
   "id": "a7f508a7-2b52-4df8-8cf1-1602d6248bcc",
   "metadata": {},
   "outputs": [
    {
     "data": {
      "text/plain": [
       "ideal_plan\n",
       "Medium    4868\n",
       "Low       1526\n",
       "High       649\n",
       "Name: count, dtype: int64"
      ]
     },
     "execution_count": 8,
     "metadata": {},
     "output_type": "execute_result"
    }
   ],
   "source": [
    "df['ideal_plan'].value_counts()"
   ]
  },
  {
   "cell_type": "code",
   "execution_count": 9,
   "id": "0b698a46-d93d-47da-8b2b-a0d5397ca06a",
   "metadata": {},
   "outputs": [],
   "source": [
    "df['ideal_plan'] = df['ideal_plan'].map({'Low': 0, 'Medium': 1, 'High': 2})"
   ]
  },
  {
   "cell_type": "markdown",
   "id": "844e7aa5-f66c-418b-bff9-ba1f6bbc9b17",
   "metadata": {},
   "source": [
    "### 🔹 Шаг 3: Разделение данных на train и test"
   ]
  },
  {
   "cell_type": "code",
   "execution_count": 10,
   "id": "0361fc8b-8e15-4e30-8b0a-e752a301c2ef",
   "metadata": {},
   "outputs": [
    {
     "name": "stdout",
     "output_type": "stream",
     "text": [
      "(7043, 16)\n",
      "(7043,)\n"
     ]
    }
   ],
   "source": [
    "from sklearn.model_selection import train_test_split\n",
    "\n",
    "X = df.drop('ideal_plan', axis=1)\n",
    "y = df.ideal_plan\n",
    "\n",
    "print(X.shape)\n",
    "print(y.shape)\n",
    "\n",
    "X_train, X_test, y_train, y_test = train_test_split(X, y, test_size=0.2, random_state=42)"
   ]
  },
  {
   "cell_type": "code",
   "execution_count": 11,
   "id": "08956b11-654e-4617-a45a-8709b0b76abe",
   "metadata": {},
   "outputs": [
    {
     "data": {
      "text/plain": [
       "count    5634.000000\n",
       "mean        0.875044\n",
       "std         0.538922\n",
       "min         0.000000\n",
       "25%         1.000000\n",
       "50%         1.000000\n",
       "75%         1.000000\n",
       "max         2.000000\n",
       "Name: ideal_plan, dtype: float64"
      ]
     },
     "execution_count": 11,
     "metadata": {},
     "output_type": "execute_result"
    }
   ],
   "source": [
    "y_train.describe()"
   ]
  },
  {
   "cell_type": "code",
   "execution_count": 12,
   "id": "b4a3e549-544b-4a96-b779-4edda72b64f1",
   "metadata": {},
   "outputs": [
    {
     "data": {
      "text/plain": [
       "count    1409.000000\n",
       "mean        0.877218\n",
       "std         0.552473\n",
       "min         0.000000\n",
       "25%         1.000000\n",
       "50%         1.000000\n",
       "75%         1.000000\n",
       "max         2.000000\n",
       "Name: ideal_plan, dtype: float64"
      ]
     },
     "execution_count": 12,
     "metadata": {},
     "output_type": "execute_result"
    }
   ],
   "source": [
    "y_test.describe()"
   ]
  },
  {
   "cell_type": "markdown",
   "id": "b8a1dc55-2c3c-4bcf-992d-b3082353205d",
   "metadata": {},
   "source": [
    "### 🔹 Шаг 4: Масштабирование признаков"
   ]
  },
  {
   "cell_type": "code",
   "execution_count": 13,
   "id": "ce17c46d-481a-4824-bf61-1867c4ecd953",
   "metadata": {},
   "outputs": [],
   "source": [
    "from sklearn.preprocessing import StandardScaler\n",
    "\n",
    "scaler = StandardScaler()\n",
    "numeric_cols = X.select_dtypes(include='number').columns\n",
    "\n",
    "X_train_scaled = X_train.copy()\n",
    "X_test_scaled = X_test.copy()\n",
    "\n",
    "X_train_scaled[numeric_cols] = scaler.fit_transform(X_train_scaled[numeric_cols])\n",
    "X_test_scaled[numeric_cols] = scaler.transform(X_test_scaled[numeric_cols])\n",
    "\n",
    "X_train_scaled = pd.DataFrame(X_train_scaled, columns=X_train.columns)\n",
    "X_test_scaled = pd.DataFrame(X_test_scaled, columns=X_test.columns)\n",
    "\n",
    "numeric_columns = pd.concat([X_train_scaled, X_test_scaled])"
   ]
  },
  {
   "cell_type": "code",
   "execution_count": 14,
   "id": "2699d62b-b514-4790-b2d0-5dfb137ba079",
   "metadata": {},
   "outputs": [
    {
     "data": {
      "text/html": [
       "<div>\n",
       "<style scoped>\n",
       "    .dataframe tbody tr th:only-of-type {\n",
       "        vertical-align: middle;\n",
       "    }\n",
       "\n",
       "    .dataframe tbody tr th {\n",
       "        vertical-align: top;\n",
       "    }\n",
       "\n",
       "    .dataframe thead th {\n",
       "        text-align: right;\n",
       "    }\n",
       "</style>\n",
       "<table border=\"1\" class=\"dataframe\">\n",
       "  <thead>\n",
       "    <tr style=\"text-align: right;\">\n",
       "      <th></th>\n",
       "      <th>SeniorCitizen</th>\n",
       "      <th>tenure</th>\n",
       "      <th>ideal_plan</th>\n",
       "    </tr>\n",
       "  </thead>\n",
       "  <tbody>\n",
       "    <tr>\n",
       "      <th>count</th>\n",
       "      <td>7043.000000</td>\n",
       "      <td>7043.000000</td>\n",
       "      <td>7043.000000</td>\n",
       "    </tr>\n",
       "    <tr>\n",
       "      <th>mean</th>\n",
       "      <td>0.162147</td>\n",
       "      <td>32.371149</td>\n",
       "      <td>0.875479</td>\n",
       "    </tr>\n",
       "    <tr>\n",
       "      <th>std</th>\n",
       "      <td>0.368612</td>\n",
       "      <td>24.559481</td>\n",
       "      <td>0.541621</td>\n",
       "    </tr>\n",
       "    <tr>\n",
       "      <th>min</th>\n",
       "      <td>0.000000</td>\n",
       "      <td>0.000000</td>\n",
       "      <td>0.000000</td>\n",
       "    </tr>\n",
       "    <tr>\n",
       "      <th>25%</th>\n",
       "      <td>0.000000</td>\n",
       "      <td>9.000000</td>\n",
       "      <td>1.000000</td>\n",
       "    </tr>\n",
       "    <tr>\n",
       "      <th>50%</th>\n",
       "      <td>0.000000</td>\n",
       "      <td>29.000000</td>\n",
       "      <td>1.000000</td>\n",
       "    </tr>\n",
       "    <tr>\n",
       "      <th>75%</th>\n",
       "      <td>0.000000</td>\n",
       "      <td>55.000000</td>\n",
       "      <td>1.000000</td>\n",
       "    </tr>\n",
       "    <tr>\n",
       "      <th>max</th>\n",
       "      <td>1.000000</td>\n",
       "      <td>72.000000</td>\n",
       "      <td>2.000000</td>\n",
       "    </tr>\n",
       "  </tbody>\n",
       "</table>\n",
       "</div>"
      ],
      "text/plain": [
       "       SeniorCitizen       tenure   ideal_plan\n",
       "count    7043.000000  7043.000000  7043.000000\n",
       "mean        0.162147    32.371149     0.875479\n",
       "std         0.368612    24.559481     0.541621\n",
       "min         0.000000     0.000000     0.000000\n",
       "25%         0.000000     9.000000     1.000000\n",
       "50%         0.000000    29.000000     1.000000\n",
       "75%         0.000000    55.000000     1.000000\n",
       "max         1.000000    72.000000     2.000000"
      ]
     },
     "execution_count": 14,
     "metadata": {},
     "output_type": "execute_result"
    }
   ],
   "source": [
    "df.describe()"
   ]
  },
  {
   "cell_type": "code",
   "execution_count": 15,
   "id": "e5935291-7736-4a94-9a1b-46eb878a5da6",
   "metadata": {},
   "outputs": [
    {
     "data": {
      "text/html": [
       "<div>\n",
       "<style scoped>\n",
       "    .dataframe tbody tr th:only-of-type {\n",
       "        vertical-align: middle;\n",
       "    }\n",
       "\n",
       "    .dataframe tbody tr th {\n",
       "        vertical-align: top;\n",
       "    }\n",
       "\n",
       "    .dataframe thead th {\n",
       "        text-align: right;\n",
       "    }\n",
       "</style>\n",
       "<table border=\"1\" class=\"dataframe\">\n",
       "  <thead>\n",
       "    <tr style=\"text-align: right;\">\n",
       "      <th></th>\n",
       "      <th>SeniorCitizen</th>\n",
       "      <th>tenure</th>\n",
       "    </tr>\n",
       "  </thead>\n",
       "  <tbody>\n",
       "    <tr>\n",
       "      <th>count</th>\n",
       "      <td>7043.000000</td>\n",
       "      <td>7043.000000</td>\n",
       "    </tr>\n",
       "    <tr>\n",
       "      <th>mean</th>\n",
       "      <td>0.003641</td>\n",
       "      <td>-0.000080</td>\n",
       "    </tr>\n",
       "    <tr>\n",
       "      <th>std</th>\n",
       "      <td>1.003421</td>\n",
       "      <td>1.005614</td>\n",
       "    </tr>\n",
       "    <tr>\n",
       "      <th>min</th>\n",
       "      <td>-0.437749</td>\n",
       "      <td>-1.325551</td>\n",
       "    </tr>\n",
       "    <tr>\n",
       "      <th>25%</th>\n",
       "      <td>-0.437749</td>\n",
       "      <td>-0.957036</td>\n",
       "    </tr>\n",
       "    <tr>\n",
       "      <th>50%</th>\n",
       "      <td>-0.437749</td>\n",
       "      <td>-0.138115</td>\n",
       "    </tr>\n",
       "    <tr>\n",
       "      <th>75%</th>\n",
       "      <td>-0.437749</td>\n",
       "      <td>0.926483</td>\n",
       "    </tr>\n",
       "    <tr>\n",
       "      <th>max</th>\n",
       "      <td>2.284413</td>\n",
       "      <td>1.622566</td>\n",
       "    </tr>\n",
       "  </tbody>\n",
       "</table>\n",
       "</div>"
      ],
      "text/plain": [
       "       SeniorCitizen       tenure\n",
       "count    7043.000000  7043.000000\n",
       "mean        0.003641    -0.000080\n",
       "std         1.003421     1.005614\n",
       "min        -0.437749    -1.325551\n",
       "25%        -0.437749    -0.957036\n",
       "50%        -0.437749    -0.138115\n",
       "75%        -0.437749     0.926483\n",
       "max         2.284413     1.622566"
      ]
     },
     "execution_count": 15,
     "metadata": {},
     "output_type": "execute_result"
    }
   ],
   "source": [
    "numeric_columns.describe()"
   ]
  },
  {
   "cell_type": "markdown",
   "id": "8f917354-8f35-435a-a935-53b54125eeda",
   "metadata": {},
   "source": [
    "### 🔹 Шаг 5: Кодирование категориальных признаков"
   ]
  },
  {
   "cell_type": "code",
   "execution_count": 16,
   "id": "4e4554e5-023a-40e1-bd2a-27e461298757",
   "metadata": {},
   "outputs": [],
   "source": [
    "import category_encoders as ce\n",
    "\n",
    "categorical_features = X.select_dtypes(include='object').columns\n",
    "cat_transformer_tme = ce.TargetEncoder(cols=categorical_features)\n",
    "\n",
    "X_train_scaled[categorical_features] = cat_transformer_tme.fit_transform(X_train_scaled[categorical_features], y_train)\n",
    "X_test_scaled[categorical_features] = cat_transformer_tme.transform(X_test_scaled[categorical_features])"
   ]
  },
  {
   "cell_type": "markdown",
   "id": "1b2dd4c4-667e-44f4-9723-6ce5c1b7ea80",
   "metadata": {},
   "source": [
    "### 🔹 Шаг 6: Построение Baseline модели и оценка ее качество"
   ]
  },
  {
   "cell_type": "code",
   "execution_count": 18,
   "id": "4cbb0e09-f85a-4f29-bd6e-d41481a88072",
   "metadata": {},
   "outputs": [
    {
     "name": "stdout",
     "output_type": "stream",
     "text": [
      "0.9513667021654242\n",
      "0.8914123491838183\n"
     ]
    }
   ],
   "source": [
    "from sklearn.neighbors import KNeighborsClassifier\n",
    "from sklearn.metrics import accuracy_score\n",
    "\n",
    "baseline = KNeighborsClassifier(n_neighbors=3)\n",
    "baseline.fit(X_train_scaled, y_train)\n",
    "\n",
    "y_pred_baseline_train = baseline.predict(X_train_scaled)\n",
    "y_pred_baseline_test = baseline.predict(X_test_scaled)\n",
    "\n",
    "accuracy_train = accuracy_score(y_train, y_pred_baseline_train)\n",
    "accuracy_test = accuracy_score(y_test, y_pred_baseline_test)\n",
    "\n",
    "print(accuracy_train)\n",
    "print(accuracy_test)"
   ]
  },
  {
   "cell_type": "code",
   "execution_count": 19,
   "id": "00cdecd7-7a76-46ff-b28a-fa9d515075c6",
   "metadata": {},
   "outputs": [
    {
     "name": "stdout",
     "output_type": "stream",
     "text": [
      "Cross-validation scores: [0.91836735 0.91304348 0.90417036 0.90505768 0.90674956]\n",
      "Average cross-validation score: 0.9094776840383231\n"
     ]
    }
   ],
   "source": [
    "from sklearn.model_selection import cross_val_score\n",
    "\n",
    "scores = cross_val_score(baseline, X_train_scaled, y_train, cv=5)  \n",
    "\n",
    "print(\"Cross-validation scores:\", scores)\n",
    "print(\"Average cross-validation score:\", scores.mean())"
   ]
  },
  {
   "cell_type": "markdown",
   "id": "bd8d6b36-f087-440c-8abd-d35b6bdff887",
   "metadata": {},
   "source": [
    "##### Я думал что accuracy на обучающих и тестовых данных показывает переобучение модели, а кросс валидация показала что модель хорошо обобщается на разных подвыборках данных"
   ]
  },
  {
   "cell_type": "markdown",
   "id": "8da536ef-5682-41d1-bbac-f1e793544d35",
   "metadata": {},
   "source": [
    "### 🔹 Шаг 7: Построение более сложных моделей"
   ]
  },
  {
   "cell_type": "code",
   "execution_count": 20,
   "id": "520668ee-abd4-4bc7-889e-2479db0284b6",
   "metadata": {
    "scrolled": true
   },
   "outputs": [
    {
     "name": "stderr",
     "output_type": "stream",
     "text": [
      "C:\\Users\\MSI Cyborg\\anaconda3\\Lib\\site-packages\\sklearn\\linear_model\\_logistic.py:1256: FutureWarning: 'multi_class' was deprecated in version 1.5 and will be removed in 1.7. Use OneVsRestClassifier(LogisticRegression(..)) instead. Leave it to its default value to avoid this warning.\n",
      "  warnings.warn(\n"
     ]
    },
    {
     "name": "stdout",
     "output_type": "stream",
     "text": [
      "0:\tlearn: 1.0555322\ttotal: 144ms\tremaining: 1m 11s\n",
      "100:\tlearn: 0.2053569\ttotal: 639ms\tremaining: 2.52s\n",
      "200:\tlearn: 0.1566334\ttotal: 1.17s\tremaining: 1.74s\n",
      "300:\tlearn: 0.1433812\ttotal: 1.75s\tremaining: 1.16s\n",
      "400:\tlearn: 0.1356686\ttotal: 2.3s\tremaining: 568ms\n",
      "499:\tlearn: 0.1296482\ttotal: 2.86s\tremaining: 0us\n"
     ]
    }
   ],
   "source": [
    "# Logistic Regression (L2 регуляризация)\n",
    "from sklearn.linear_model import LogisticRegression\n",
    "\n",
    "log_reg = LogisticRegression(max_iter=565, multi_class='ovr', penalty='elasticnet', solver='saga', l1_ratio=0.5)\n",
    "log_reg.fit(X_train_scaled, y_train)\n",
    "y_proba_lg_train = log_reg.predict_proba(X_train_scaled)\n",
    "y_proba_lg_test = log_reg.predict_proba(X_test_scaled)\n",
    "\n",
    "# DecisionTreeClassifier \n",
    "from sklearn.tree import DecisionTreeClassifier\n",
    "\n",
    "d_tree = DecisionTreeClassifier(max_depth=3, min_samples_split=10, min_samples_leaf=5)\n",
    "d_tree.fit(X_train_scaled, y_train)\n",
    "y_proba_dtree_train = d_tree.predict_proba(X_train_scaled)\n",
    "y_proba_dtree_test = d_tree.predict_proba(X_test_scaled)\n",
    "\n",
    "# RandomForestClassifier\n",
    "from sklearn.ensemble import RandomForestClassifier\n",
    "\n",
    "r_forest = RandomForestClassifier(n_estimators=100, max_depth=10, min_samples_split=10, min_samples_leaf=5, random_state=42)\n",
    "r_forest.fit(X_train_scaled, y_train)\n",
    "y_proba_rf_train = r_forest.predict_proba(X_train_scaled)\n",
    "y_proba_rf_test = r_forest.predict_proba(X_test_scaled)\n",
    "\n",
    "# CatBoostClassifier\n",
    "from catboost import CatBoostClassifier\n",
    "\n",
    "catboost = CatBoostClassifier(iterations=500, depth=6, learning_rate=0.03, l2_leaf_reg=10, verbose=100)\n",
    "catboost.fit(X_train_scaled, y_train)\n",
    "y_proba_catboost_train = catboost.predict_proba(X_train_scaled)\n",
    "y_proba_catboost_test = catboost.predict_proba(X_test_scaled)"
   ]
  },
  {
   "cell_type": "code",
   "execution_count": 21,
   "id": "239582a5-aa78-4947-b125-de9f7684eb53",
   "metadata": {
    "scrolled": true
   },
   "outputs": [
    {
     "data": {
      "text/html": [
       "<div>\n",
       "<style scoped>\n",
       "    .dataframe tbody tr th:only-of-type {\n",
       "        vertical-align: middle;\n",
       "    }\n",
       "\n",
       "    .dataframe tbody tr th {\n",
       "        vertical-align: top;\n",
       "    }\n",
       "\n",
       "    .dataframe thead th {\n",
       "        text-align: right;\n",
       "    }\n",
       "</style>\n",
       "<table border=\"1\" class=\"dataframe\">\n",
       "  <thead>\n",
       "    <tr style=\"text-align: right;\">\n",
       "      <th></th>\n",
       "      <th>Models</th>\n",
       "      <th>Train Data</th>\n",
       "      <th>Test Data</th>\n",
       "    </tr>\n",
       "  </thead>\n",
       "  <tbody>\n",
       "    <tr>\n",
       "      <th>0</th>\n",
       "      <td>LogisticRegression</td>\n",
       "      <td>0.973986</td>\n",
       "      <td>0.975541</td>\n",
       "    </tr>\n",
       "    <tr>\n",
       "      <th>1</th>\n",
       "      <td>DecisionTreeClassifier</td>\n",
       "      <td>0.944672</td>\n",
       "      <td>0.942720</td>\n",
       "    </tr>\n",
       "    <tr>\n",
       "      <th>2</th>\n",
       "      <td>RandomForestClassifier</td>\n",
       "      <td>0.987613</td>\n",
       "      <td>0.979156</td>\n",
       "    </tr>\n",
       "    <tr>\n",
       "      <th>3</th>\n",
       "      <td>CatBoostClassifier</td>\n",
       "      <td>0.986259</td>\n",
       "      <td>0.980308</td>\n",
       "    </tr>\n",
       "  </tbody>\n",
       "</table>\n",
       "</div>"
      ],
      "text/plain": [
       "                   Models  Train Data  Test Data\n",
       "0      LogisticRegression    0.973986   0.975541\n",
       "1  DecisionTreeClassifier    0.944672   0.942720\n",
       "2  RandomForestClassifier    0.987613   0.979156\n",
       "3      CatBoostClassifier    0.986259   0.980308"
      ]
     },
     "execution_count": 21,
     "metadata": {},
     "output_type": "execute_result"
    }
   ],
   "source": [
    "from sklearn.metrics import roc_auc_score\n",
    "\n",
    "auc_lg_train = roc_auc_score(y_train, y_proba_lg_train, multi_class='ovr', average='macro')\n",
    "auc_lg_test = roc_auc_score(y_test, y_proba_lg_test, multi_class='ovr', average='macro')\n",
    "\n",
    "auc_dtree_train = roc_auc_score(y_train, y_proba_dtree_train, multi_class='ovr', average='macro')\n",
    "auc_dtree_test = roc_auc_score(y_test, y_proba_dtree_test, multi_class='ovr', average='macro')\n",
    "\n",
    "auc_rf_train = roc_auc_score(y_train, y_proba_rf_train, multi_class='ovr', average='macro')\n",
    "auc_rf_test = roc_auc_score(y_test, y_proba_rf_test, multi_class='ovr', average='macro')\n",
    "\n",
    "auc_catboost_train = roc_auc_score(y_train, y_proba_catboost_train, multi_class='ovr', average='macro')\n",
    "auc_catboost_test = roc_auc_score(y_test, y_proba_catboost_test, multi_class='ovr', average='macro')\n",
    "\n",
    "df = pd.DataFrame({\n",
    "    \"Models\" : ['LogisticRegression', 'DecisionTreeClassifier', 'RandomForestClassifier', 'CatBoostClassifier'],\n",
    "    'Train Data' : [auc_lg_train, auc_dtree_train, auc_rf_train, auc_catboost_train], \n",
    "    'Test Data' : [auc_lg_test, auc_dtree_test, auc_rf_test, auc_catboost_test]\n",
    "})\n",
    "\n",
    "df"
   ]
  },
  {
   "cell_type": "markdown",
   "id": "ae361e37-e9f8-4701-a284-843fc7ad6cbb",
   "metadata": {},
   "source": [
    "### 🔹 Шаг 8: Работа с лучшим моделем"
   ]
  },
  {
   "cell_type": "code",
   "execution_count": 29,
   "id": "298c0e49-445b-4399-96dd-141a46bfb6fe",
   "metadata": {},
   "outputs": [
    {
     "name": "stdout",
     "output_type": "stream",
     "text": [
      "Лучшие параметры: {'depth': 6, 'iterations': 200, 'l2_leaf_reg': 3, 'learning_rate': 0.05}\n",
      "0:\tlearn: 1.0231043\ttotal: 16.3ms\tremaining: 3.25s\n",
      "100:\tlearn: 0.1899832\ttotal: 1.39s\tremaining: 1.36s\n",
      "199:\tlearn: 0.1675564\ttotal: 2.73s\tremaining: 0us\n"
     ]
    }
   ],
   "source": [
    "from sklearn.decomposition import PCA\n",
    "from sklearn.model_selection import GridSearchCV\n",
    "\n",
    "# Применил PCA чтобы уменьшить размерность признаков\n",
    "pca = PCA(n_components=0.95)\n",
    "X_train_pca = pca.fit_transform(X_train_scaled)\n",
    "X_test_pca = pca.transform(X_test_scaled)\n",
    "\n",
    "X_train_pca_df = pd.DataFrame(X_train_pca)\n",
    "X_test_pca_df = pd.DataFrame(X_test_pca)\n",
    "\n",
    "X_train_pca_df.columns = [f'PC{i+1}' for i in range(X_train_pca_df.shape[1])]\n",
    "X_test_pca_df.columns = [f'PC{i+1}' for i in range(X_test_pca_df.shape[1])]\n",
    "\n",
    "param_grid = {\n",
    "    'iterations': [200, 300],\n",
    "    'depth': [6, 8, 10],  \n",
    "    'learning_rate': [0.05, 0.1], \n",
    "    'l2_leaf_reg': [1, 3] \n",
    "}\n",
    "\n",
    "catboost = CatBoostClassifier(verbose=0, early_stopping_rounds=50)  \n",
    "\n",
    "grid_search = GridSearchCV(catboost, param_grid, cv=3, scoring='accuracy', n_jobs=-1)  \n",
    "grid_search.fit(X_train_pca, y_train)\n",
    "\n",
    "best_params = grid_search.best_params_\n",
    "print(\"Лучшие параметры:\", best_params)\n",
    "\n",
    "best_catboost = CatBoostClassifier(**best_params, verbose=100, early_stopping_rounds=50)\n",
    "best_catboost.fit(X_train_pca, y_train)\n",
    "\n",
    "y_pred_train = best_catboost.predict(X_train_pca)\n",
    "y_pred_test = best_catboost.predict(X_test_pca)"
   ]
  },
  {
   "cell_type": "code",
   "execution_count": 34,
   "id": "bf483096-e10e-4a93-80a1-1884ae65a0c8",
   "metadata": {},
   "outputs": [
    {
     "name": "stdout",
     "output_type": "stream",
     "text": [
      "Accuracy для обучающих данных: 0.9235001774937878\n",
      "Accuracy для тестовых данных: 0.9027679205110007\n"
     ]
    }
   ],
   "source": [
    "accuracy_train_bm = accuracy_score(y_train, y_pred_train)\n",
    "accuracy_test_bm = accuracy_score(y_test, y_pred_test)\n",
    "\n",
    "print(f\"Accuracy для обучающих данных: {accuracy_train_bm}\")\n",
    "print(f\"Accuracy для тестовых данных: {accuracy_test_bm}\")"
   ]
  },
  {
   "cell_type": "code",
   "execution_count": 37,
   "id": "8a69776a-a1e3-402d-869b-f447f494c462",
   "metadata": {},
   "outputs": [
    {
     "name": "stdout",
     "output_type": "stream",
     "text": [
      "Лучшие параметры: {'depth': 6, 'iterations': 200, 'l2_leaf_reg': 3, 'learning_rate': 0.05}\n",
      "0:\tlearn: 1.0217266\ttotal: 10.9ms\tremaining: 2.18s\n",
      "100:\tlearn: 0.1530162\ttotal: 1.04s\tremaining: 1.02s\n",
      "199:\tlearn: 0.1292117\ttotal: 2.08s\tremaining: 0us\n",
      "Accuracy для обучающих данных: 0.9382321618743344\n",
      "Accuracy для тестовых данных: 0.9226401703335699\n"
     ]
    }
   ],
   "source": [
    "# Без снижение размерности данных\n",
    "\n",
    "param_grid = {\n",
    "    'iterations': [200, 300],\n",
    "    'depth': [6, 8, 10],  \n",
    "    'learning_rate': [0.05, 0.1], \n",
    "    'l2_leaf_reg': [1, 3] \n",
    "}\n",
    "\n",
    "catboost = CatBoostClassifier(verbose=0, early_stopping_rounds=50)  \n",
    "\n",
    "grid_search = GridSearchCV(catboost, param_grid, cv=3, scoring='accuracy', n_jobs=-1)  \n",
    "grid_search.fit(X_train_scaled, y_train)\n",
    "\n",
    "best_params = grid_search.best_params_\n",
    "print(\"Лучшие параметры:\", best_params)\n",
    "\n",
    "best_catboost = CatBoostClassifier(**best_params, verbose=100, early_stopping_rounds=50)\n",
    "best_catboost.fit(X_train_scaled, y_train)\n",
    "\n",
    "y_pred_train = best_catboost.predict(X_train_scaled)\n",
    "y_pred_test = best_catboost.predict(X_test_scaled)\n",
    "\n",
    "accuracy_train_bm = accuracy_score(y_train, y_pred_train)\n",
    "accuracy_test_bm = accuracy_score(y_test, y_pred_test)\n",
    "\n",
    "print(f\"Accuracy для обучающих данных: {accuracy_train_bm}\")\n",
    "print(f\"Accuracy для тестовых данных: {accuracy_test_bm}\")"
   ]
  },
  {
   "cell_type": "code",
   "execution_count": 42,
   "id": "9210ffae-f4e2-478e-a9da-0d429725a57b",
   "metadata": {},
   "outputs": [
    {
     "data": {
      "image/png": "[encoded data removed]",
      "text/plain": [
       "<Figure size 1200x800 with 1 Axes>"
      ]
     },
     "metadata": {},
     "output_type": "display_data"
    }
   ],
   "source": [
    "import matplotlib.pyplot as plt\n",
    "\n",
    "importances_catboost = best_catboost.get_feature_importance()\n",
    "\n",
    "feature_names = X_train_scaled.columns\n",
    "\n",
    "importance_df = pd.DataFrame({'Feature': feature_names, 'Importance': importances_catboost})\n",
    "\n",
    "importance_df = importance_df.sort_values(by='Importance', ascending=True)\n",
    "\n",
    "plt.figure(figsize=(12, 8))\n",
    "plt.barh(importance_df['Feature'], importance_df['Importance'], color='skyblue')\n",
    "plt.xlabel('Важность')\n",
    "plt.ylabel('Признаки')\n",
    "plt.title('Важность признаков модели CatBoost')\n",
    "plt.show()"
   ]
  },
  {
   "cell_type": "code",
   "execution_count": 45,
   "id": "94e6b0d3-729f-4a2a-9659-eb940bfe14d6",
   "metadata": {},
   "outputs": [
    {
     "name": "stdout",
     "output_type": "stream",
     "text": [
      "Файл сохранён как 'combined_data.csv'\n"
     ]
    }
   ],
   "source": [
    "# Сохраняю обработанные данные в файл csv чтобы использовать их для деплоя модели\n",
    "X_train_scaled_df = pd.DataFrame(X_train_scaled)\n",
    "X_test_scaled_df = pd.DataFrame(X_test_scaled)\n",
    "y_train_df = pd.DataFrame(y_train, columns=['ideal_plan'])\n",
    "y_test_df = pd.DataFrame(y_test, columns=['ideal_plan'])\n",
    "\n",
    "train_data = pd.concat([X_train_scaled_df, y_train_df], axis=1)\n",
    "test_data = pd.concat([X_test_scaled_df, y_test_df], axis=1)\n",
    "\n",
    "full_data = pd.concat([train_data, test_data], axis=0)\n",
    "\n",
    "full_data.to_csv('combined_data.csv', index=False)\n",
    "\n",
    "print(\"Файл сохранён как 'combined_data.csv'\")"
   ]
  },
  {
   "cell_type": "code",
   "execution_count": null,
   "id": "ba7de64a-3642-4e90-84ed-8426ff9d6bbd",
   "metadata": {},
   "outputs": [],
   "source": []
  }
 ],
 "metadata": {
  "kernelspec": {
   "display_name": "Python 3 (ipykernel)",
   "language": "python",
   "name": "python3"
  },
  "language_info": {
   "codemirror_mode": {
    "name": "ipython",
    "version": 3
   },
   "file_extension": ".py",
   "mimetype": "text/x-python",
   "name": "python",
   "nbconvert_exporter": "python",
   "pygments_lexer": "ipython3",
   "version": "3.12.7"
  }
 },
 "nbformat": 4,
 "nbformat_minor": 5
}
